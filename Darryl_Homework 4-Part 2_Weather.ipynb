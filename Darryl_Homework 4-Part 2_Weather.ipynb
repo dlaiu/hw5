{
 "cells": [
  {
   "cell_type": "code",
   "execution_count": 36,
   "id": "32710247-edfa-44fe-b137-c4bcc37eb71d",
   "metadata": {},
   "outputs": [],
   "source": [
    "!touch .env"
   ]
  },
  {
   "cell_type": "code",
   "execution_count": 38,
   "id": "4f78998b-6cc2-437b-8a0b-2d144c1b9599",
   "metadata": {},
   "outputs": [
    {
     "name": "stdout",
     "output_type": "stream",
     "text": [
      "c934d73c2a344cc29c1183901231411\n"
     ]
    }
   ],
   "source": [
    "import os\n",
    "from dotenv import load_dotenv\n",
    "load_dotenv()\n",
    "\n",
    "API_KEY = os.getenv('WEATHER_API_KEY')"
   ]
  },
  {
   "cell_type": "markdown",
   "id": "52d7bc77-8d06-4621-834d-938687e0c811",
   "metadata": {},
   "source": [
    "## 1. What is the URL to the documentation?\n",
    "https://www.weatherapi.com/docs/"
   ]
  },
  {
   "cell_type": "markdown",
   "id": "59c06ac4-40ea-4ee0-9ab7-a1160efd9439",
   "metadata": {},
   "source": [
    "## 2. Make a request for the current weather where you are born, or somewhere you've lived."
   ]
  },
  {
   "cell_type": "code",
   "execution_count": 39,
   "id": "cdec98aa-dc91-4738-aa30-10516afd791a",
   "metadata": {},
   "outputs": [],
   "source": [
    "import requests\n",
    "\n",
    "url = f'https://api.weatherapi.com/v1/current.json?key={API_KEY}&q=Singapore&aqi=yes'\n",
    "response = requests.get(url)\n",
    "\n",
    "singapore_weather = response.json()"
   ]
  },
  {
   "cell_type": "markdown",
   "id": "33f2630b-9fda-48c4-99f5-ceb983c05147",
   "metadata": {},
   "source": [
    "## 3. Print out the country this location is in."
   ]
  },
  {
   "cell_type": "code",
   "execution_count": 40,
   "id": "fdd7d435-1da5-4943-a264-06203197ebe0",
   "metadata": {},
   "outputs": [
    {
     "data": {
      "text/plain": [
       "'Singapore'"
      ]
     },
     "execution_count": 40,
     "metadata": {},
     "output_type": "execute_result"
    }
   ],
   "source": [
    "singapore_weather['location']['country']"
   ]
  },
  {
   "cell_type": "markdown",
   "id": "21a0f8b9-b44e-4d35-8397-63650a1c11b3",
   "metadata": {},
   "source": [
    "## 4. Print out the difference between the current temperature and how warm it feels. Use \"It feels ___ degrees colder\" or \"It feels ___ degrees warmer,\" not negative numbers."
   ]
  },
  {
   "cell_type": "code",
   "execution_count": 20,
   "id": "bb9053d9-8773-46ea-9d88-4f0dda067156",
   "metadata": {},
   "outputs": [
    {
     "name": "stdout",
     "output_type": "stream",
     "text": [
      "2.3999999999999986\n",
      "It feels 2.40 degrees warmer.\n"
     ]
    }
   ],
   "source": [
    "# singapore_weather\n",
    "singapore_weather_temp = singapore_weather['current']['temp_c']\n",
    "singapore_weather_feels = singapore_weather['current']['feelslike_c']\n",
    "\n",
    "diff = singapore_weather_temp - singapore_weather_feels\n",
    "# print(abs(diff))\n",
    "\n",
    "if singapore_weather_temp > singapore_weather_feels:\n",
    "    print(f\"It feels {abs(diff)} degrees colder.\")\n",
    "elif singapore_weather_temp < singapore_weather_feels:\n",
    "    print(f\"It feels {abs(diff):.2f} degrees warmer.\")"
   ]
  },
  {
   "cell_type": "markdown",
   "id": "247a5ba7-049b-4c2a-a9a0-b22f5d850836",
   "metadata": {},
   "source": [
    "## 5. What's the current temperature at Heathrow International Airport? Use the airport's IATA code to search."
   ]
  },
  {
   "cell_type": "code",
   "execution_count": 21,
   "id": "dec68d26-39ae-4188-bdfd-ed5a0c44a3fc",
   "metadata": {},
   "outputs": [
    {
     "data": {
      "text/plain": [
       "{'location': {'name': 'London Heathrow Airport',\n",
       "  'region': 'London',\n",
       "  'country': 'United Kingdom',\n",
       "  'lat': 51.47,\n",
       "  'lon': -0.46,\n",
       "  'tz_id': 'Europe/London',\n",
       "  'localtime_epoch': 1699991355,\n",
       "  'localtime': '2023-11-14 19:49'},\n",
       " 'current': {'last_updated_epoch': 1699991100,\n",
       "  'last_updated': '2023-11-14 19:45',\n",
       "  'temp_c': 10.0,\n",
       "  'temp_f': 50.0,\n",
       "  'is_day': 0,\n",
       "  'condition': {'text': 'Clear',\n",
       "   'icon': '//cdn.weatherapi.com/weather/64x64/night/113.png',\n",
       "   'code': 1000},\n",
       "  'wind_mph': 13.6,\n",
       "  'wind_kph': 22.0,\n",
       "  'wind_degree': 250,\n",
       "  'wind_dir': 'WSW',\n",
       "  'pressure_mb': 1008.0,\n",
       "  'pressure_in': 29.77,\n",
       "  'precip_mm': 0.0,\n",
       "  'precip_in': 0.0,\n",
       "  'humidity': 87,\n",
       "  'cloud': 0,\n",
       "  'feelslike_c': 7.5,\n",
       "  'feelslike_f': 45.6,\n",
       "  'vis_km': 10.0,\n",
       "  'vis_miles': 6.0,\n",
       "  'uv': 1.0,\n",
       "  'gust_mph': 18.4,\n",
       "  'gust_kph': 29.6,\n",
       "  'air_quality': {'co': 240.3,\n",
       "   'no2': 13.4,\n",
       "   'o3': 46.5,\n",
       "   'so2': 2.8,\n",
       "   'pm2_5': 0.9,\n",
       "   'pm10': 1.3,\n",
       "   'us-epa-index': 1,\n",
       "   'gb-defra-index': 1}}}"
      ]
     },
     "execution_count": 21,
     "metadata": {},
     "output_type": "execute_result"
    }
   ],
   "source": [
    "url = f'https://api.weatherapi.com/v1/current.json?key={API_KEY}&q=LHR&aqi=yes'\n",
    "response = requests.get(url)\n",
    "\n",
    "LHR_weather = response.json()"
   ]
  },
  {
   "cell_type": "code",
   "execution_count": 22,
   "id": "8c071a9c-f7c4-4808-b5f3-4949ed3acb6f",
   "metadata": {},
   "outputs": [
    {
     "name": "stdout",
     "output_type": "stream",
     "text": [
      "10.0\n"
     ]
    }
   ],
   "source": [
    "print(LHR_weather['current']['temp_c'])"
   ]
  },
  {
   "cell_type": "markdown",
   "id": "f2746285-5203-4669-8a1c-fdab14735a08",
   "metadata": {},
   "source": [
    "## 6. What URL would I use to request a 3-day forecast at Heathrow?"
   ]
  },
  {
   "cell_type": "code",
   "execution_count": 23,
   "id": "d834cd43-acff-4ea2-9783-ae4aaf46481a",
   "metadata": {},
   "outputs": [],
   "source": [
    "url = f'https://api.weatherapi.com/v1/forecast.json?key={API_KEY}&q=LHR&days=3&aqi=no&alerts=yes'"
   ]
  },
  {
   "cell_type": "code",
   "execution_count": 24,
   "id": "a8722220-247f-46cb-b034-98c1e5bc5ae1",
   "metadata": {},
   "outputs": [],
   "source": [
    "response = requests.get(url)\n",
    "LHR_forecast = response.json()"
   ]
  },
  {
   "cell_type": "markdown",
   "id": "cce67fc3-e72d-4928-a475-4c60af3583e5",
   "metadata": {},
   "source": [
    "## 7. Print the date of each of the 3 days you're getting a forecast for."
   ]
  },
  {
   "cell_type": "code",
   "execution_count": 31,
   "id": "971f66b7-e29c-4d9e-b620-f16bd8d5c885",
   "metadata": {},
   "outputs": [
    {
     "name": "stdout",
     "output_type": "stream",
     "text": [
      "2023-11-14\n",
      "2023-11-15\n",
      "2023-11-16\n"
     ]
    }
   ],
   "source": [
    "forecasts = LHR_forecast['forecast']['forecastday']\n",
    "\n",
    "for forecast in forecasts:\n",
    "    print(forecast['date'])"
   ]
  },
  {
   "cell_type": "markdown",
   "id": "547ef711-bfee-4506-b813-7a90736eb217",
   "metadata": {},
   "source": [
    "## 8. Print the maximum temperature of each of the days."
   ]
  },
  {
   "cell_type": "code",
   "execution_count": 34,
   "id": "1f3a825f-0721-4736-a832-976f4cd1d8b0",
   "metadata": {},
   "outputs": [
    {
     "name": "stdout",
     "output_type": "stream",
     "text": [
      "11.7\n",
      "10.8\n",
      "11.4\n"
     ]
    }
   ],
   "source": [
    "for forecast in forecasts:\n",
    "    print(forecast['day']['maxtemp_c'])"
   ]
  },
  {
   "cell_type": "markdown",
   "id": "c73f2219-58a1-4cf7-9988-2463dd1601d5",
   "metadata": {},
   "source": [
    "## 9. Print only the day with the highest maximum temperature."
   ]
  },
  {
   "cell_type": "code",
   "execution_count": 35,
   "id": "46345c0c-8e61-43bc-9cae-35dbae8f9f90",
   "metadata": {},
   "outputs": [
    {
     "name": "stdout",
     "output_type": "stream",
     "text": [
      "2023-11-14\n"
     ]
    }
   ],
   "source": [
    "date = ''\n",
    "maxtemp = 0\n",
    "for forecast in forecasts:\n",
    "    if forecast['day']['maxtemp_c'] > maxtemp:\n",
    "        date = forecast['date']\n",
    "        maxtemp = forecast['day']['maxtemp_c']\n",
    "\n",
    "print(date)"
   ]
  }
 ],
 "metadata": {
  "kernelspec": {
   "display_name": "Python 3 (ipykernel)",
   "language": "python",
   "name": "python3"
  },
  "language_info": {
   "codemirror_mode": {
    "name": "ipython",
    "version": 3
   },
   "file_extension": ".py",
   "mimetype": "text/x-python",
   "name": "python",
   "nbconvert_exporter": "python",
   "pygments_lexer": "ipython3",
   "version": "3.11.6"
  }
 },
 "nbformat": 4,
 "nbformat_minor": 5
}
